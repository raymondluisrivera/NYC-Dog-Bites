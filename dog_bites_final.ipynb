{
 "cells": [
  {
   "cell_type": "markdown",
   "metadata": {},
   "source": [
    "# Data Analysis of Dog Bites in New York City from 2015-2017\n",
    "\n",
    "   According to the Department of Health Mental Health(DHMH), dog bites were responsible for an average of 6,028 emergency room visits from 2007-2014(Preventing Dog Bite-Related Injuries among New York City Residents, 2017). The injuries obtained through dog bites are responsible for almost $17 million USD in medical expenses for the year of 2014, with children making up the majority of the victims(Preventing Dog Bite-Related Injuries among New York City Residents, 2017). The information available focuses on how dog bites relate to victims, but little information actually exist on the dogs themselves or any meaningful trends that can be extrapulated from the data.\n",
    "This data analysis will use the DHMH dataset on dog bites in NYC from 2015-2017 to answer the following questions:\n",
    "- Which dog breeds bite the most?\n",
    "- In which age range are bites most expected?\n",
    "- Are there any boroughs in the city that are disproportionately effected by dog bites?\n",
    "- Does spaying or neutering the dog effect whether they bite people or not?\n",
    "\n",
    "\n",
    "<a href=\"#Part-1.-Data-Preperation\">Part 1. Data Preperation</a>\n",
    "\n",
    "<a href=\"#Part-2.-Data-Exploration\">Part 2. Data Exploration</a>\n",
    "\n",
    "<a href=\"#Part-3.-Conclusion\">Part 3. Conclusion</a>\n",
    "\n",
    "**References**\n",
    "\n",
    "[Dog Bites Data Set](https://data.cityofnewyork.us/Health/DOHMH-Dog-Bite-Data/rsgh-akpg)\n",
    "\n",
    "[Preventing Dog Bite-Related Injuries among New York City Residents](https://www1.nyc.gov/assets/doh/downloads/pdf/survey/survey-dog-bites.pdf)\n",
    "\n",
    "[New York City: US Census Bureau](https://www.census.gov/quickfacts/fact/table/newyorkcitynewyork,bronxcountybronxboroughnewyork,kingscountybrooklynboroughnewyork,newyorkcountymanhattanboroughnewyork,queenscountyqueensboroughnewyork,richmondcountystatenislandboroughnewyork/POP010210)\n",
    "\n",
    "[5 Tips to Stop Your Dog From Biting](https://www.dogtopia.com/blog/5-tips-stop-dog-biting/)"
   ]
  },
  {
   "cell_type": "markdown",
   "metadata": {},
   "source": [
    "## Part 1. Data Preperation \n"
   ]
  },
  {
   "cell_type": "code",
   "execution_count": 1,
   "metadata": {},
   "outputs": [],
   "source": [
    "import pandas as pd\n",
    "import numpy as np\n",
    "import matplotlib.pyplot as plt\n",
    "from scipy import stats\n",
    "import statistics\n",
    "import re\n",
    "%matplotlib inline\n",
    "plt.style.use('fivethirtyeight')"
   ]
  },
  {
   "cell_type": "markdown",
   "metadata": {},
   "source": [
    "### Load Data"
   ]
  },
  {
   "cell_type": "code",
   "execution_count": 2,
   "metadata": {
    "scrolled": true
   },
   "outputs": [
    {
     "data": {
      "text/html": [
       "<div>\n",
       "<style scoped>\n",
       "    .dataframe tbody tr th:only-of-type {\n",
       "        vertical-align: middle;\n",
       "    }\n",
       "\n",
       "    .dataframe tbody tr th {\n",
       "        vertical-align: top;\n",
       "    }\n",
       "\n",
       "    .dataframe thead th {\n",
       "        text-align: right;\n",
       "    }\n",
       "</style>\n",
       "<table border=\"1\" class=\"dataframe\">\n",
       "  <thead>\n",
       "    <tr style=\"text-align: right;\">\n",
       "      <th></th>\n",
       "      <th>UniqueID</th>\n",
       "      <th>DateOfBite</th>\n",
       "      <th>Species</th>\n",
       "      <th>Breed</th>\n",
       "      <th>Age</th>\n",
       "      <th>Gender</th>\n",
       "      <th>SpayNeuter</th>\n",
       "      <th>Borough</th>\n",
       "      <th>ZipCode</th>\n",
       "    </tr>\n",
       "  </thead>\n",
       "  <tbody>\n",
       "    <tr>\n",
       "      <td>0</td>\n",
       "      <td>1</td>\n",
       "      <td>January 02 2015</td>\n",
       "      <td>DOG</td>\n",
       "      <td>Poodle, Standard</td>\n",
       "      <td>3</td>\n",
       "      <td>M</td>\n",
       "      <td>True</td>\n",
       "      <td>Brooklyn</td>\n",
       "      <td>11238</td>\n",
       "    </tr>\n",
       "    <tr>\n",
       "      <td>1</td>\n",
       "      <td>2</td>\n",
       "      <td>January 02 2015</td>\n",
       "      <td>DOG</td>\n",
       "      <td>HUSKY</td>\n",
       "      <td>NaN</td>\n",
       "      <td>U</td>\n",
       "      <td>False</td>\n",
       "      <td>Brooklyn</td>\n",
       "      <td>11249</td>\n",
       "    </tr>\n",
       "    <tr>\n",
       "      <td>2</td>\n",
       "      <td>3</td>\n",
       "      <td>January 02 2015</td>\n",
       "      <td>DOG</td>\n",
       "      <td>NaN</td>\n",
       "      <td>NaN</td>\n",
       "      <td>U</td>\n",
       "      <td>False</td>\n",
       "      <td>Brooklyn</td>\n",
       "      <td>NaN</td>\n",
       "    </tr>\n",
       "    <tr>\n",
       "      <td>3</td>\n",
       "      <td>4</td>\n",
       "      <td>January 01 2015</td>\n",
       "      <td>DOG</td>\n",
       "      <td>American Pit Bull Terrier/Pit Bull</td>\n",
       "      <td>6</td>\n",
       "      <td>M</td>\n",
       "      <td>False</td>\n",
       "      <td>Brooklyn</td>\n",
       "      <td>11221</td>\n",
       "    </tr>\n",
       "    <tr>\n",
       "      <td>4</td>\n",
       "      <td>5</td>\n",
       "      <td>January 03 2015</td>\n",
       "      <td>DOG</td>\n",
       "      <td>American Pit Bull Terrier/Pit Bull</td>\n",
       "      <td>1</td>\n",
       "      <td>M</td>\n",
       "      <td>False</td>\n",
       "      <td>Brooklyn</td>\n",
       "      <td>11207</td>\n",
       "    </tr>\n",
       "  </tbody>\n",
       "</table>\n",
       "</div>"
      ],
      "text/plain": [
       "   UniqueID       DateOfBite Species                               Breed  Age  \\\n",
       "0         1  January 02 2015     DOG                    Poodle, Standard    3   \n",
       "1         2  January 02 2015     DOG                               HUSKY  NaN   \n",
       "2         3  January 02 2015     DOG                                 NaN  NaN   \n",
       "3         4  January 01 2015     DOG  American Pit Bull Terrier/Pit Bull    6   \n",
       "4         5  January 03 2015     DOG  American Pit Bull Terrier/Pit Bull    1   \n",
       "\n",
       "  Gender  SpayNeuter   Borough ZipCode  \n",
       "0      M        True  Brooklyn   11238  \n",
       "1      U       False  Brooklyn   11249  \n",
       "2      U       False  Brooklyn     NaN  \n",
       "3      M       False  Brooklyn   11221  \n",
       "4      M       False  Brooklyn   11207  "
      ]
     },
     "execution_count": 2,
     "metadata": {},
     "output_type": "execute_result"
    }
   ],
   "source": [
    "df = pd.read_csv('DOHMH_Dog_Bite_Data.csv')\n",
    "\n",
    "copy = df.copy() #make copy of df\n",
    "\n",
    "copy.head() #from this point on, all clean up will be done with copy"
   ]
  },
  {
   "cell_type": "code",
   "execution_count": 3,
   "metadata": {},
   "outputs": [
    {
     "name": "stdout",
     "output_type": "stream",
     "text": [
      "<class 'pandas.core.frame.DataFrame'>\n",
      "RangeIndex: 10280 entries, 0 to 10279\n",
      "Data columns (total 9 columns):\n",
      "UniqueID      10280 non-null int64\n",
      "DateOfBite    10280 non-null object\n",
      "Species       10280 non-null object\n",
      "Breed         8692 non-null object\n",
      "Age           5534 non-null object\n",
      "Gender        10280 non-null object\n",
      "SpayNeuter    10280 non-null bool\n",
      "Borough       10280 non-null object\n",
      "ZipCode       7613 non-null object\n",
      "dtypes: bool(1), int64(1), object(7)\n",
      "memory usage: 652.7+ KB\n",
      "\n",
      "The shape of the dataframe is:  (10280, 9)\n",
      "\n",
      "After removal of duplicates, the shape of the dataframe is:  (10280, 9)\n",
      "\n",
      "The number of null (Nan) values for the dataframe are:\n",
      " UniqueID         0\n",
      "DateOfBite       0\n",
      "Species          0\n",
      "Breed         1588\n",
      "Age           4746\n",
      "Gender           0\n",
      "SpayNeuter       0\n",
      "Borough          0\n",
      "ZipCode       2667\n",
      "dtype: int64\n"
     ]
    }
   ],
   "source": [
    "copy.info() #check info for dataframe\n",
    "\n",
    "print('\\nThe shape of the dataframe is: ', copy.shape)#check shape of df\n",
    "\n",
    "copy = copy.drop_duplicates()#drop duplicated from df copy\n",
    "\n",
    "print('\\nAfter removal of duplicates, the shape of the\\\n",
    " dataframe is: ', copy.shape)# no duplicates present\n",
    "\n",
    "print('\\nThe number of null (Nan) values for the dataframe are:\\n'\\\n",
    "     , copy.isna().sum())\n"
   ]
  },
  {
   "cell_type": "markdown",
   "metadata": {},
   "source": [
    "### Data Cleaning"
   ]
  },
  {
   "cell_type": "markdown",
   "metadata": {},
   "source": [
    "Running a query on null values shows a little over 1/10 of the 'breed' column  rows as null, almost 1/2 of the 'age' rows as null, and a little over 2/10 of 'zip_code' as null. The 'age' null values composes a large part of the dataframe and the column is also data typed as an object, so it will be left alone for now. The nulls for 'Breed' and Zip Code will be dropped and then the 'Age' nulls will be dealt with."
   ]
  },
  {
   "cell_type": "code",
   "execution_count": 4,
   "metadata": {},
   "outputs": [],
   "source": [
    "copy = copy.rename(columns = { #rename columns, make them easier to work with\n",
    "    'UniqueID': 'unique_id',\n",
    "    'DateOfBite': 'date_of_bite',\n",
    "    'Species': 'species',\n",
    "    'Breed': 'breed',\n",
    "    'Age': 'age',\n",
    "    'Gender': 'gender',\n",
    "    'SpayNeuter': 'spay_neuter',\n",
    "    'Borough': 'borough',\n",
    "    'ZipCode': 'zip_code'\n",
    "})"
   ]
  },
  {
   "cell_type": "code",
   "execution_count": 5,
   "metadata": {},
   "outputs": [
    {
     "name": "stdout",
     "output_type": "stream",
     "text": [
      "\n",
      "The shape of the dataframe is now:  (6820, 9)\n"
     ]
    }
   ],
   "source": [
    "copy = copy.dropna(subset = \n",
    "                   ['breed', \n",
    "                    'zip_code'\n",
    "                   ]) #remove duplicates from specified columns \n",
    "\n",
    "print('\\nThe shape of the dataframe is now: ', copy.shape)"
   ]
  },
  {
   "cell_type": "markdown",
   "metadata": {},
   "source": [
    "The 'unique_id' is the index for the original dataset so it will be removed. The 'species' column only consist of the 'DOG' value, so this column will be removed as well."
   ]
  },
  {
   "cell_type": "code",
   "execution_count": 6,
   "metadata": {},
   "outputs": [],
   "source": [
    "copy.drop(labels = ['unique_id', 'species'], axis = 1, inplace = True)"
   ]
  },
  {
   "cell_type": "markdown",
   "metadata": {},
   "source": [
    "Columns in the dataframe are datatyped erroneously. Before exploratory data analysis is performed, these datatype errors need to be fixed. However, the 'age' column has string data. This column will be edited and then converted to the proper datatype."
   ]
  },
  {
   "cell_type": "code",
   "execution_count": 7,
   "metadata": {},
   "outputs": [
    {
     "name": "stdout",
     "output_type": "stream",
     "text": [
      "These are the unique values for the 'age' column: \n",
      "\n",
      " ['3' nan '6' '1' '4' '2' '12' '7M' '8M' '5' '11' '10' '13' '7' '8' '10 M'\n",
      " '4M' '9M' '6M' '9' '19' '15' '14' '10M' '11M' '5m' '14M' '3M' '18M'\n",
      " '2-3M' '2018-02-03T00:00:00.000' '11 MTHS' '2 YRS' '4 YRS' '5M'\n",
      " '2018-03-04T00:00:00.000' '22 MTHS' '2M' '17y' '7 MTHS'\n",
      " '2018-09-10T00:00:00.000' '1Y' '10Y' '2Y' '8YRS & 8 M' '4Y' '8Y' '1M'\n",
      " '3Y' '9Y' '12Y' '6Y' '3 MTHS' '7m' '4y' '1YR' '5Y'\n",
      " '2018-04-05T00:00:00.000' '2-3 YR' '2-3 YRS' '10y' '3YR' '13Y' '11Y' '3y'\n",
      " '4 M' '11MTHS' '8 M' '7Y' '2018-08-09T00:00:00.000' '8MTHS' '6y' '3 M'\n",
      " '2y' '9 M' '11 M' '2.5' '6.5 YRS' '16' '2018-08-02T00:00:00.000' '9WK'\n",
      " '6 MTHS' '1 YR' '1/12M' '9MTHS' '1.6' '8WKS' '3MTH' '15.5' '13M' '5YR'\n",
      " '21' '7 M' '1.3' '3.5' '11 YRS' '10 YRS' '2018-04-06T00:00:00.000' '0.2'\n",
      " '7W' '9 MTHS' '4 MTHS' '4.5' '8 MTHS' '4MTHS' '10 MTHS' '8W' '2 MTH'\n",
      " '9 YRS' '1 & 3' '8 MOS' '1.8' '11MOS' '2018-06-07T00:00:00.000' '16M'\n",
      " '4 yrs 8 mo' '17' '4.6' '2.6' '3 YR' '6 YRS' '1 1/2 YRS' '3 YRS' '8 YRS'\n",
      " '10 & 9' '2 (2) & (1' '3.6' '10 MTHS &' '5 MTHS' '6 & 4' '2YRS (MALE'\n",
      " '2 MTHS' '1 & 8' '2 & 9MTHS' '1.5' '3 & 4' '10.5'\n",
      " '2018-04-02T00:00:00.000' '6MTH' '18W' '13WK' '11W'\n",
      " '2018-05-06T00:00:00.000']\n"
     ]
    }
   ],
   "source": [
    "print(\"These are the unique values for the 'age' column: \\n\\n\",\n",
    "     copy.age.unique())\n"
   ]
  },
  {
   "cell_type": "code",
   "execution_count": 8,
   "metadata": {},
   "outputs": [],
   "source": [
    "#this function will remove alpha literals\n",
    "\n",
    "def fix_age(arg):\n",
    "#this assignment will make regex easier to manage    \n",
    "    arg = str(arg).lower().strip().replace(' ', '') \n",
    "    \n",
    "    if re.findall('^7m$', arg):\n",
    "        return '0.07'\n",
    "    \n",
    "    elif re.findall('^8m$|^8mths$|^8mos$|^8mos$', arg):\n",
    "        return '0.08'\n",
    "    \n",
    "    elif re.findall('^10m$|^10mths$|^10mths&$|^10mths&$', arg):\n",
    "        return '0.1'\n",
    "    \n",
    "    elif re.findall('^4m$|^4mths$|^18w$', arg):\n",
    "        return '0.04'\n",
    "    \n",
    "    elif re.findall('^9m$|^9mths$', arg):\n",
    "        return '0.09'\n",
    "    \n",
    "    elif re.findall('^6m$|^6mths$|^6mth$', arg):\n",
    "        return '0.06'\n",
    "    \n",
    "    elif re.findall('^11m$', arg):\n",
    "        return '0.11'\n",
    "    \n",
    "    elif re.findall('^5m$|^5mths$', arg):\n",
    "        return '0.05'\n",
    "    \n",
    "    elif re.findall('^14m$', arg):\n",
    "        return '0.14'\n",
    "    \n",
    "    elif re.findall('^3m$|^3mths$|^3mth$|^13wk$|^11w$', arg):\n",
    "        return '0.03'\n",
    "    \n",
    "    elif re.findall('^18$|^18m$', arg):\n",
    "        return '0.18'\n",
    "    \n",
    "    elif re.findall('^2-3m$|^9wk$', arg):\n",
    "        return '0.025'\n",
    "    \n",
    "    elif re.findall('^11mths$|^11mos$', arg):\n",
    "        return '0.11'\n",
    "    \n",
    "    elif re.findall('^2yrs$|^2y$|^2[(]2[)]&\\(1$|^2yrs\\(male$|^1&8$', arg):\n",
    "        return '2.0'\n",
    "    \n",
    "    elif re.findall('^4yrs$|^4y$', arg):\n",
    "        return '4.0'\n",
    "    \n",
    "    elif re.findall('^22mths$', arg):\n",
    "        return '0.22'\n",
    "    \n",
    "    elif re.findall('^2m$|^8wks$|^7w$|^8w$|^2mth$|^2mths$', arg):\n",
    "        return '0.02'\n",
    "    \n",
    "    elif re.findall('^17y$', arg):\n",
    "        return '17.0'\n",
    "    \n",
    "    elif re.findall('^7mths$', arg):\n",
    "        return '0.07'\n",
    "    \n",
    "    elif re.findall('^1y$|^1yr$', arg):\n",
    "        return '1.0'\n",
    "    \n",
    "    elif re.findall('^10y$|^10yrs$', arg):\n",
    "        return '10.0'\n",
    "    \n",
    "    elif re.findall('^8yrs&8m$|^9y$|^9yrs$', arg):\n",
    "        return '9.0'\n",
    "    \n",
    "    elif re.findall('^8y$|^8yrs$', arg):\n",
    "        return '8.0'\n",
    "    \n",
    "    elif re.findall('^1m$|^1/12m$', arg):\n",
    "        return '0.01'\n",
    "    \n",
    "    elif re.findall('^3y$|^2-3yr$|^2-3yrs$|^3yr$|^3yrs$|^2&9mths$|^3&4$', arg):\n",
    "        return '3.0'\n",
    "    \n",
    "    elif re.findall('^12y$', arg):\n",
    "        return '12.0'\n",
    "    \n",
    "    elif re.findall('^6y$|^6yrs$|^6&4$', arg):\n",
    "        return '6.0'\n",
    "    \n",
    "    elif re.findall('^5y$|^5yr$|^4yrs8mo$', arg):\n",
    "        return '5.0'\n",
    "    \n",
    "    elif re.findall('^13y$', arg):\n",
    "        return '13.0'\n",
    "    \n",
    "    elif re.findall('^11y$|^11yrs$|^11/2yrs$|^10&9$', arg):\n",
    "        return '11.0'\n",
    "    \n",
    "    elif re.findall('^7y$|^6.5yrs$', arg):\n",
    "        return '7.0'\n",
    "    \n",
    "    elif re.findall('^13m$', arg):\n",
    "        return '0.13'\n",
    "    \n",
    "    elif re.findall('^1&3$', arg):\n",
    "        return '0.15'\n",
    "    \n",
    "    elif re.findall('^16m$', arg):\n",
    "        return '0.16'\n",
    "    \n",
    "    elif re.findall('^2018.\\d+.\\w+.\\d+.\\d+.\\d+', arg):\n",
    "        return np.nan\n",
    "    \n",
    "    else:\n",
    "        return arg\n",
    "\n",
    "copy['age'] = copy['age'].apply(fix_age)\n",
    "copy = copy.astype(dtype = {\n",
    "    'date_of_bite':np.datetime64,\n",
    "    'age': np.float32\n",
    "})"
   ]
  },
  {
   "cell_type": "code",
   "execution_count": 9,
   "metadata": {},
   "outputs": [],
   "source": [
    "#age will be turned to age in months in order to make float type\n",
    "#easier to manage\n",
    "def age_to_months(arg):\n",
    "    \n",
    "    age_in_months = []\n",
    "    \n",
    "    for i in arg:\n",
    "        if i>= 1:\n",
    "            i *= 12\n",
    "            age_in_months.append(i)\n",
    "        elif i < 1:\n",
    "            i *= 100\n",
    "            age_in_months.append(i)\n",
    "        else:\n",
    "            age_in_months.append(i)\n",
    "            \n",
    "    return age_in_months\n",
    "\n",
    "#test age_to_motnhs before appending to copy\n",
    "\n",
    "age = copy['age']\n",
    "\n",
    "new_age = age_to_months(age) #funtion is successful\n",
    "\n",
    "#find mean for new_age\n",
    "\n",
    "new_age_mu = np.nanmean(new_age) #find mean of age excluding Nan\n",
    "\n",
    "new_age = pd.Series(new_age).fillna(new_age_mu)\n",
    "\n",
    "#index needs to be reset so that I can cast the 'new_age' series to the copy\n",
    "copy.reset_index(drop = True, inplace = True)\n",
    "\n",
    "copy['age'] = new_age #replaced copy['age'] wit new_age values\n",
    "\n",
    "#change name to reflect change in unit of measurement\n",
    "copy = copy.rename(columns = {'age': 'age_in_months'})"
   ]
  },
  {
   "cell_type": "markdown",
   "metadata": {},
   "source": [
    "Now that we've dealth with the null values and dirty data in 'age', lets move on to 'breeds'. 'breeds' has the second most nulls in the data set, and also has errors through out. For example, the dog breed \"Dachshund\" is spelled as \"Daschhund\", \"Dashound\", and \"Doxxin\". Before any meaningful EDA can be formed on the data set, the 'breeds' column must be cleaned up. The easiest way to do this will be to create a function that produces a new column which will replace values in 'breed' with grouped breed names. For example, a French bulldog and English bulldog will be listed as 'bulldog' in the new column"
   ]
  },
  {
   "cell_type": "code",
   "execution_count": 10,
   "metadata": {},
   "outputs": [
    {
     "name": "stdout",
     "output_type": "stream",
     "text": [
      "\n",
      "There are 914 unique values in the breed column.\n"
     ]
    }
   ],
   "source": [
    "print('\\nThere are', len(copy.breed.unique())\\\n",
    "      ,'unique values in the breed column.')"
   ]
  },
  {
   "cell_type": "code",
   "execution_count": 11,
   "metadata": {},
   "outputs": [],
   "source": [
    "#this function will group together breeds through regex \n",
    "def general_breed(x):\n",
    "    #this assignment will make regex easier to manage  \n",
    "    x = str(x).lower().strip().replace(' ', '')\n",
    "    \n",
    "    if re.findall('^poo(\\w+.\\w+)|^g\\w+oodle$|^fre\\w+odle$',str(x)):\n",
    "        return 'poodle'\n",
    "    \n",
    "    elif re.findall(\n",
    "                 '(\\w+/\\w+)|\\w+xed$|\\w+x$|\\w+.x$\\\n",
    "                    |^mutt$|^shorky$|^schnoodle$\\\n",
    "                    |^maltipoo$|\\^yorkipoo$|^puggle$\\\n",
    "                    |^morkie$|^pek\\w+.\\w+|\\w+.x$\\\n",
    "                    |^jack\\w+.x$|^shichi$|^mal\\w+.x$\\\n",
    "                    |^mixedbreed$|^chi\\w+.x$|^lha\\w+su$\\\n",
    "                    |^te\\w+.ab$|^med\\w+eed$|^la\\w+ed$\\\n",
    "                    |^la\\w+og$|^hus\\w+.x$|^mi\\w.\\w+er$\\\n",
    "                    |^be\\w+.x$|^shihtzumix\\w+|^shihtzu-x$\\\n",
    "                    |^lab-x$|^boxer-x$|^pomeranian&chihuahua$\\\n",
    "                    |^multipoo$|^mixedbreed[(]miniaussiemix[)]$\\\n",
    "                    |^jac\\w+.\\w+ua$|^te\\w+.ab$|^hus\\w+ador$\\\n",
    "                    |^mix.\\w+|^mix\\w+|^lar\\w+|^lha\\w+tzu$\\\n",
    "                    |^terr&lab$|^shi\\w+.x$',\n",
    "                    str(x)\n",
    "                    ):\n",
    "        return 'mixed'\n",
    "    \n",
    "    elif re.findall('\\w+spani\\w+|^span\\w+.\\w+',x):\n",
    "        return 'spaniel'\n",
    "    \n",
    "    elif re.findall('\\w+rier|\\w+rier\\w+|^jackruss$\\\n",
    "                    |^west\\w+|^york\\w+|^staff\\w+\\\n",
    "                    |\\w+york\\w+|\\w+err$', x\n",
    "                   ):\n",
    "        return 'terrier'\n",
    "    \n",
    "    elif re.findall('^dach\\w+.\\w+|^dasc\\w+|^dox\\w+', x):\n",
    "        return 'dachshund'\n",
    "    \n",
    "    elif re.findall('\\w+iever', x):\n",
    "        return 'retriever'\n",
    "    \n",
    "    elif re.findall('\\w+shepherd$|^belg\\w+|^ger\\w+erd$\\\n",
    "                    |^sheperd$|^shepard$|^chi\\w+erd$', x):\n",
    "        return 'shepherd'\n",
    "    \n",
    "    elif re.findall('\\w+corgi.\\w+', x):\n",
    "        return 'corgi'\n",
    "    \n",
    "    elif re.findall('^bulld\\w+.\\w+|\\w+lldog$', x):\n",
    "        return 'bulldog'\n",
    "    \n",
    "    elif re.findall('^col\\w+.\\w+|^aust\\w+lie$', x):\n",
    "        return 'collie'\n",
    "    \n",
    "    elif re.findall('\\w+cher$|^minidoberman$', x):\n",
    "        return 'pinscher'\n",
    "    \n",
    "    elif re.findall('^catahoulaleoparddog$|^catah\\w+', x):\n",
    "        return 'catahoula leopard dog'\n",
    "    \n",
    "    elif re.findall('\\w+sky$', x):\n",
    "        return 'husky'\n",
    "    \n",
    "    elif re.findall('\\w+cattle$|\\w+tledog$\\\n",
    "                    |^blueh\\w+|\\w+.\\w+ler^', x):\n",
    "        return 'australiancattledog'\n",
    "    \n",
    "    elif re.findall('(\\w+bull$|\\w+.\\w+bull$)|^red\\w+it$|^\\w+lly$\\\n",
    "                    |^americanbully[(]pitbull[)]$', x):\n",
    "        return 'pitbull'\n",
    "        \n",
    "    elif re.findall('\\w+tter$', x):\n",
    "        return 'setter'\n",
    "    \n",
    "    elif re.findall('crossbreed$', x):\n",
    "        return re.sub('crossbreed$', '',x)\n",
    "   \n",
    "    elif re.findall('^jind\\w+.', x):\n",
    "        return 'jindo dog'\n",
    "    \n",
    "    elif re.findall('(^masti\\w+.\\w+|\\w+neco\\w+|\\w+saca\\w+|\\w+iff$)', x):\n",
    "        return 'mastiff'\n",
    "    \n",
    "    elif re.findall('^poin\\w+.\\w+|\\w+nter$', x):\n",
    "        return 'pointer'\n",
    "    \n",
    "    elif re.findall('^alas\\w+', x):\n",
    "        return 'alaskan klee kai'\n",
    "    \n",
    "    elif re.findall('^schna\\w+|^schna\\w+.\\w+|\\w+uzer$', x):\n",
    "        return 'schnauzer'\n",
    "    \n",
    "    elif re.findall('^bern\\w+', x):\n",
    "        return 'bernese mountain dog'\n",
    "    \n",
    "    elif re.findall('^brus\\w+|\\w+ffon$', x):\n",
    "        return 'griffon'\n",
    "    \n",
    "    elif re.findall('^coon\\w+.\\w+', x):\n",
    "        return 'coonhound'\n",
    "    \n",
    "    elif re.findall('^hound$', x):\n",
    "        return 'hound'\n",
    "    \n",
    "    elif re.findall('^un\\w+|^nots\\w+.\\w+', x):\n",
    "        return 'unk'\n",
    "    \n",
    "    elif re.findall('^budd\\w+', x):\n",
    "        return 'lhasaapso'\n",
    "    \n",
    "    elif re.findall('^shar.\\w+.\\w+', x):\n",
    "        return 'sharpei'\n",
    "    \n",
    "    elif re.findall('\\w+doodle$|\\w+ddle$', x):\n",
    "        return 'doodle'\n",
    "    \n",
    "    elif re.findall('\\w+sheepdog$', x):\n",
    "        return 'sheepdog'\n",
    "    \n",
    "    elif re.findall('^dogo\\w+', x):\n",
    "        return 'dogo'\n",
    "    \n",
    "    else: \n",
    "        return x\n",
    "    \n",
    "copy['general_breed'] = copy['breed'].apply(general_breed)"
   ]
  },
  {
   "cell_type": "markdown",
   "metadata": {},
   "source": [
    "After applying the 'general_breed' function, the unique values in 'breed' have been reduced from **914** to **131** and saved to the new 'general_breed' column. This will make it easier to perform EDA on the data set."
   ]
  },
  {
   "cell_type": "code",
   "execution_count": 12,
   "metadata": {},
   "outputs": [
    {
     "name": "stdout",
     "output_type": "stream",
     "text": [
      "     date_of_bite    breed  age_in_months gender  spay_neuter borough  \\\n",
      "5798   2017-07-11  UNKNOWN       53.05945      U        False  Queens   \n",
      "\n",
      "     zip_code general_breed  \n",
      "5798        ?           unk  \n",
      "<class 'pandas.core.frame.DataFrame'>\n",
      "Int64Index: 6819 entries, 0 to 6819\n",
      "Data columns (total 8 columns):\n",
      "date_of_bite     6819 non-null datetime64[ns]\n",
      "breed            6819 non-null object\n",
      "age_in_months    6819 non-null float64\n",
      "gender           6819 non-null object\n",
      "spay_neuter      6819 non-null bool\n",
      "borough          6819 non-null object\n",
      "zip_code         6819 non-null int32\n",
      "general_breed    6819 non-null object\n",
      "dtypes: bool(1), datetime64[ns](1), float64(1), int32(1), object(4)\n",
      "memory usage: 406.2+ KB\n"
     ]
    }
   ],
   "source": [
    "#'zip_code' has a '?' character. find the borough and place a general zipcode\n",
    "\n",
    "print(copy.loc[copy['zip_code'] == '?'])#borough for this zipcode is Queens\n",
    "\n",
    "#this row has most column values as NaN, so it will be removed\n",
    "\n",
    "copy = copy.drop(index = [5798])\n",
    "\n",
    "#change the dtypes for 'date_of_bite', 'age', 'zip_code'\n",
    "copy = copy.astype(dtype = {'zip_code': np.int32})\n",
    "\n",
    "copy.info()"
   ]
  },
  {
   "cell_type": "markdown",
   "metadata": {},
   "source": [
    "## Part 2. Data Exploration\n"
   ]
  },
  {
   "cell_type": "code",
   "execution_count": 13,
   "metadata": {},
   "outputs": [
    {
     "name": "stdout",
     "output_type": "stream",
     "text": [
      "\n",
      "The number of null values in the dataframe are:\n",
      "  date_of_bite     0\n",
      "breed            0\n",
      "age_in_months    0\n",
      "gender           0\n",
      "spay_neuter      0\n",
      "borough          0\n",
      "zip_code         0\n",
      "general_breed    0\n",
      "dtype: int64\n",
      "\n",
      "All null value issues have been resolved!\n",
      "\n",
      "Total number of dog bites is:  6819\n",
      "\n",
      "The mean age of dogs who have bitten people is: 53.06 months\n",
      "\n",
      "With a standard deviation of: 32.40 months\n",
      "\n",
      "A mode of: 53.06 months\n",
      "\n",
      "and a median of: 53.06 months\n",
      "\n",
      "Number of dog bites per borough in descending order:\n",
      " Queens           1805\n",
      "Brooklyn         1722\n",
      "Manhattan        1295\n",
      "Bronx            1158\n",
      "Staten Island     659\n",
      "Other             180\n",
      "Name: borough, dtype: int64\n"
     ]
    }
   ],
   "source": [
    "print('\\nThe number of null values in the dataframe are:\\n ', \n",
    "      copy.isna().sum())\n",
    "\n",
    "print('\\nAll null value issues have been resolved!')\n",
    "\n",
    "print('\\nTotal number of dog bites is: ', len(copy))\n",
    "\n",
    "print('\\nThe mean age of dogs who have bitten people is: {:.2f} months'\\\n",
    "      .format(copy.age_in_months.mean()))\n",
    "\n",
    "print('\\nWith a standard deviation of: {:.2f} months'\\\n",
    "      .format(copy.age_in_months.std()))\n",
    "\n",
    "print('\\nA mode of: {:.2f} months'\\\n",
    "      .format(statistics.mode(copy.age_in_months)))\n",
    "\n",
    "print('\\nand a median of: {:.2f} months'\\\n",
    "      .format(statistics.median(copy.age_in_months)))\n",
    "\n",
    "print('\\nNumber of dog bites per borough in descending order:\\n',\n",
    "     copy.borough.value_counts())"
   ]
  },
  {
   "cell_type": "markdown",
   "metadata": {},
   "source": [
    "Through summary statistics, it seams that the 'age' variable follows a normal distribution. Now that the data has been cleaned, I will produce graphical representations of the data to better understand trends in dog bites."
   ]
  },
  {
   "cell_type": "code",
   "execution_count": 14,
   "metadata": {},
   "outputs": [
    {
     "data": {
      "text/plain": [
       "Text(0, 0.5, 'Breed')"
      ]
     },
     "execution_count": 14,
     "metadata": {},
     "output_type": "execute_result"
    },
    {
     "data": {
      "image/png": "[encoded data removed]",
      "text/plain": [
       "<Figure size 432x288 with 1 Axes>"
      ]
     },
     "metadata": {
      "needs_background": "light"
     },
     "output_type": "display_data"
    }
   ],
   "source": [
    "grouped_breeds = copy.groupby(\n",
    "    by = 'general_breed'\n",
    ").general_breed.count().sort_values()\n",
    "\n",
    "plot = grouped_breeds[120:-1].plot(kind = 'barh')#exclude mixed breed\n",
    "\n",
    "plot.set_title('# of Bites per Breed')\n",
    "\n",
    "plot.set_xlabel('# of Bites')\n",
    "\n",
    "plot.set_ylabel('Breed')"
   ]
  },
  {
   "cell_type": "markdown",
   "metadata": {},
   "source": [
    "According to the bar graph, with the exception of 'mixed' breeds, reported bites from Pitbulls are the most common. Followed by: Terrier, Chihuahua, and Shitzus, close after. "
   ]
  },
  {
   "cell_type": "code",
   "execution_count": 15,
   "metadata": {},
   "outputs": [
    {
     "data": {
      "text/plain": [
       "[]"
      ]
     },
     "execution_count": 15,
     "metadata": {},
     "output_type": "execute_result"
    },
    {
     "data": {
      "image/png": "[encoded data removed]",
      "text/plain": [
       "<Figure size 432x288 with 1 Axes>"
      ]
     },
     "metadata": {
      "needs_background": "light"
     },
     "output_type": "display_data"
    }
   ],
   "source": [
    "x = copy['age_in_months']\n",
    "\n",
    "n_bins = 10 # of bins\n",
    "\n",
    "fig, ax = plt.subplots()\n",
    "\n",
    "fig.subplots_adjust(top = 0.85)\n",
    "\n",
    "ax.hist(x, bins = n_bins, color = 'm')#creates histogram\n",
    "\n",
    "ax.set_title('Distribution of Bites per Age(Months)')\n",
    "\n",
    "ax.set_ylabel('# of Bites')\n",
    "\n",
    "ax.set_xlabel('Age (Months)')\n",
    "\n",
    "ax.text(168, 2200, 'u=53.05, s=32.39')\n",
    "\n",
    "plt.plot()"
   ]
  },
  {
   "cell_type": "markdown",
   "metadata": {},
   "source": [
    "The histogram shows the distribution of bites per age group. The distribution is right-skewed with the average age in months for reported dog bites being **53.05 months**. This distribution tells us that reported bites are more likely to be seen in dogs between **50 months** and **75 months**."
   ]
  },
  {
   "cell_type": "code",
   "execution_count": 16,
   "metadata": {
    "scrolled": true
   },
   "outputs": [
    {
     "data": {
      "image/png": "[encoded data removed]",
      "text/plain": [
       "<Figure size 576x360 with 2 Axes>"
      ]
     },
     "metadata": {
      "needs_background": "light"
     },
     "output_type": "display_data"
    }
   ],
   "source": [
    "boroughs = ['Bronx', 'Brooklyn', 'Manhattan', 'Queens', 'Staten Island']\n",
    "\n",
    "dog_bites = [1158, 1722, 1295, 1805, 659 ]\n",
    "\n",
    "population = [1418.207, 2559.903, 1628.706, 2253.858, 476.143]\n",
    "\n",
    "fig, ax1 = plt.subplots(figsize = (8, 5))\n",
    "\n",
    "fig.subplots_adjust(top = 0.85)\n",
    "\n",
    "ax2 = ax1.twinx()  \n",
    "\n",
    "ax1.bar(boroughs, dog_bites, color = 'c') \n",
    "\n",
    "ax2.plot(boroughs, population, color = 'red')\n",
    "\n",
    "ax1.set_title('Dog Bites and Population per Borough')\n",
    "\n",
    "ax1.set_ylabel('# of Bites')\n",
    "\n",
    "ax2.set_ylabel('Population (in thousands)')\n",
    "\n",
    "ax1.legend(labels = 'Bites',loc = 'upper left')\n",
    "\n",
    "ax2.legend(labels = 'Population', loc = 'upper right')\n",
    "\n",
    "plt.show()"
   ]
  },
  {
   "cell_type": "markdown",
   "metadata": {},
   "source": [
    "When comparing the number of bites to populations per borough, it seems that bites are not disproportionate by boroughs. We can see that the number of bites fits relatively well with the line depicting population per borough.\n",
    "\n",
    "(Population data taken from Cencus 2010)"
   ]
  },
  {
   "cell_type": "code",
   "execution_count": 17,
   "metadata": {},
   "outputs": [
    {
     "data": {
      "text/plain": [
       "Text(0.5, 0, 'Spay or Neutered')"
      ]
     },
     "execution_count": 17,
     "metadata": {},
     "output_type": "execute_result"
    },
    {
     "data": {
      "image/png": "[encoded data removed]",
      "text/plain": [
       "<Figure size 432x288 with 1 Axes>"
      ]
     },
     "metadata": {
      "needs_background": "light"
     },
     "output_type": "display_data"
    }
   ],
   "source": [
    "spay_plot = copy.spay_neuter.value_counts().plot(kind = 'bar')\n",
    "\n",
    "spay_plot.set_title('Bites for Spayed or Neutered Dogs')\n",
    "\n",
    "spay_plot.set_ylabel('# of Bites')\n",
    "\n",
    "spay_plot.set_xlabel('Spay or Neutered')"
   ]
  },
  {
   "cell_type": "markdown",
   "metadata": {},
   "source": [
    "It seems that dogs that are not spayed or neutered bite people nearly twice as much as dogs that are. Although other factors could be contributing to a dog's reason to bite a person, the plot is inline with sources which report:\n",
    "\n",
    "          \"getting your dog spayed or neutered can assist in reducing their desire to bite. For male dogs who have had this procedure, it reduces their testosterone levels which makes them less aggressive\" (5 Tips to Stop Your Dog From Biting)"
   ]
  },
  {
   "cell_type": "markdown",
   "metadata": {},
   "source": [
    "## Part 3. Conclusion"
   ]
  },
  {
   "cell_type": "markdown",
   "metadata": {},
   "source": [
    "After completing the analysis, I have come to the following conclusions. A large number of dog bites are done by Pitbulls, with Terriers, Chihuahas and Shih Tzu's rounding out 2nd, 3rd, and 4th place, respectively. Younger dogs are more likely to bite than older dogs, with the mean age for dogs who have bitten being ~4.5 years. It seems that dog bites do not disproportionately effect certain boroughs. Dog bites are proportionate to population size in each borough. Finally, Dogs who are spayed or neutered are less likely to bite than dogs that are not. \n",
    "\n",
    "In order to curb the amount of dog bites, the following things can be done: Marketing campaigns can be produced by the city that encourage dog owners to register their dogs and provide owners with information on dog training, taking special attention to focus on owners with young Pitbulls, Terriers, Chihuahuas, and Shih Tzus. They can also encourage owners to spay or neuter their dogs, or start a program meant to subsidize surgeries for spay and neutering. These actions will cost a considerable amount of money, therefore it will be prudent to begin in Staten Island –which has the least number of bites– measure the success of the interventions, and expand them to the rest of city if interventions prove successful. "
   ]
  },
  {
   "cell_type": "code",
   "execution_count": null,
   "metadata": {},
   "outputs": [],
   "source": []
  },
  {
   "cell_type": "code",
   "execution_count": null,
   "metadata": {},
   "outputs": [],
   "source": []
  }
 ],
 "metadata": {
  "kernelspec": {
   "display_name": "Python 3",
   "language": "python",
   "name": "python3"
  },
  "language_info": {
   "codemirror_mode": {
    "name": "ipython",
    "version": 3
   },
   "file_extension": ".py",
   "mimetype": "text/x-python",
   "name": "python",
   "nbconvert_exporter": "python",
   "pygments_lexer": "ipython3",
   "version": "3.7.4"
  }
 },
 "nbformat": 4,
 "nbformat_minor": 4
}
